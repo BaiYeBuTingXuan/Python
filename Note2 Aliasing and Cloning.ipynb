{
 "cells": [
  {
   "cell_type": "markdown",
   "id": "polished-cathedral",
   "metadata": {},
   "source": [
    "# Assignment"
   ]
  },
  {
   "cell_type": "code",
   "execution_count": 1,
   "id": "saving-gambling",
   "metadata": {},
   "outputs": [],
   "source": [
    "warm = ['yellow','red','green']\n",
    "hot = warm"
   ]
  },
  {
   "cell_type": "code",
   "execution_count": 2,
   "id": "qualified-suspension",
   "metadata": {},
   "outputs": [],
   "source": [
    "hot.append('pink')"
   ]
  },
  {
   "cell_type": "code",
   "execution_count": 4,
   "id": "correct-arrow",
   "metadata": {},
   "outputs": [
    {
     "name": "stdout",
     "output_type": "stream",
     "text": [
      "['yellow', 'red', 'green', 'pink']\n"
     ]
    }
   ],
   "source": [
    "print(warm)"
   ]
  },
  {
   "cell_type": "markdown",
   "id": "touched-sensitivity",
   "metadata": {},
   "source": [
    "Modifying hot is meaned to modifyting warm,due to hot and warm is pointer to the same object in memory.\n",
    "\n",
    "It's the meaning of __Aliasing__."
   ]
  },
  {
   "cell_type": "code",
   "execution_count": 5,
   "id": "dramatic-irish",
   "metadata": {},
   "outputs": [],
   "source": [
    "hot = warm[:]\n",
    "hot.append('orange')"
   ]
  },
  {
   "cell_type": "code",
   "execution_count": 6,
   "id": "desperate-class",
   "metadata": {},
   "outputs": [
    {
     "name": "stdout",
     "output_type": "stream",
     "text": [
      "['yellow', 'red', 'green', 'pink', 'orange']\n",
      "['yellow', 'red', 'green', 'pink']\n"
     ]
    }
   ],
   "source": [
    "print(hot)\n",
    "print(warm)"
   ]
  },
  {
   "cell_type": "markdown",
   "id": "spectacular-simulation",
   "metadata": {},
   "source": [
    "Modifying hot has no effect on warm,due to that is __cloning__ not __aliasing__."
   ]
  },
  {
   "cell_type": "markdown",
   "id": "clean-wealth",
   "metadata": {},
   "source": [
    "# Operation"
   ]
  },
  {
   "cell_type": "code",
   "execution_count": 7,
   "id": "brilliant-alabama",
   "metadata": {},
   "outputs": [
    {
     "name": "stdout",
     "output_type": "stream",
     "text": [
      "['green', 'orange', 'pink', 'red', 'yellow']\n"
     ]
    }
   ],
   "source": [
    "hot.sort()\n",
    "print(hot)"
   ]
  },
  {
   "cell_type": "code",
   "execution_count": 8,
   "id": "flying-deviation",
   "metadata": {},
   "outputs": [
    {
     "data": {
      "text/plain": [
       "['green', 'pink', 'red', 'yellow']"
      ]
     },
     "execution_count": 8,
     "metadata": {},
     "output_type": "execute_result"
    }
   ],
   "source": [
    "sorted(warm)"
   ]
  },
  {
   "cell_type": "code",
   "execution_count": 9,
   "id": "complex-pattern",
   "metadata": {},
   "outputs": [
    {
     "name": "stdout",
     "output_type": "stream",
     "text": [
      "['yellow', 'red', 'green', 'pink']\n"
     ]
    }
   ],
   "source": [
    "print(warm)"
   ]
  },
  {
   "cell_type": "markdown",
   "id": "effective-solution",
   "metadata": {},
   "source": [
    ".sort() will mutate the list itself but sorted() will not."
   ]
  },
  {
   "cell_type": "markdown",
   "id": "artificial-occasion",
   "metadata": {},
   "source": [
    " ## Avoid mutating list while literation"
   ]
  },
  {
   "cell_type": "code",
   "execution_count": 12,
   "id": "minimal-designation",
   "metadata": {},
   "outputs": [],
   "source": [
    "def remove_dups(L1,L2):\n",
    "    for i in L1:\n",
    "        if i in L2:\n",
    "            L1.remove(i)"
   ]
  },
  {
   "cell_type": "code",
   "execution_count": 14,
   "id": "stable-router",
   "metadata": {},
   "outputs": [
    {
     "name": "stdout",
     "output_type": "stream",
     "text": [
      "[3, 4, 5]\n"
     ]
    }
   ],
   "source": [
    "L1 = [2,3,4,5]\n",
    "L2 = [2,3,6,7]\n",
    "remove_dups(L1,L2)\n",
    "print(L1)"
   ]
  },
  {
   "cell_type": "markdown",
   "id": "systematic-uncle",
   "metadata": {},
   "source": [
    "Q:Why the '3' inside L1?\n",
    "\n",
    "Literation in Python keeps track in __index__,not the element.\n",
    "\n",
    "In this case,loop never saw '3'."
   ]
  },
  {
   "cell_type": "code",
   "execution_count": 16,
   "id": "drawn-photograph",
   "metadata": {},
   "outputs": [],
   "source": [
    "def remove_dups_new(L1,L2):\n",
    "    L1_copy = L1[:]\n",
    "    for i in L1_copy:\n",
    "        if i in L2:\n",
    "            L1.remove(i)\n",
    "        "
   ]
  },
  {
   "cell_type": "code",
   "execution_count": 18,
   "id": "descending-mobility",
   "metadata": {},
   "outputs": [
    {
     "name": "stdout",
     "output_type": "stream",
     "text": [
      "[4, 5]\n"
     ]
    }
   ],
   "source": [
    "L1 = [2,3,4,5]\n",
    "L2 = [2,3,6,7]\n",
    "remove_dups_new(L1,L2)\n",
    "print(L1)"
   ]
  },
  {
   "cell_type": "markdown",
   "id": "stable-phenomenon",
   "metadata": {},
   "source": [
    "To mutate,using __cloning__ to litera."
   ]
  }
 ],
 "metadata": {
  "kernelspec": {
   "display_name": "Python 3 (ipykernel)",
   "language": "python",
   "name": "python3"
  },
  "language_info": {
   "codemirror_mode": {
    "name": "ipython",
    "version": 3
   },
   "file_extension": ".py",
   "mimetype": "text/x-python",
   "name": "python",
   "nbconvert_exporter": "python",
   "pygments_lexer": "ipython3",
   "version": "3.9.2"
  }
 },
 "nbformat": 4,
 "nbformat_minor": 5
}
