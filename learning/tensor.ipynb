{
 "cells": [
  {
   "cell_type": "markdown",
   "id": "floppy-wallpaper",
   "metadata": {},
   "source": [
    "# What is Tensor"
   ]
  },
  {
   "cell_type": "code",
   "execution_count": 5,
   "id": "together-property",
   "metadata": {},
   "outputs": [],
   "source": [
    "import torch\n",
    "import numpy as np"
   ]
  },
  {
   "cell_type": "markdown",
   "id": "boolean-reason",
   "metadata": {},
   "source": [
    "A type of order data sheet\n",
    "\n",
    "scalar 0-D Tensor\n",
    "\n",
    "Vector 1-D Tensor\n",
    "\n",
    "Matrix 2-D Tensor"
   ]
  },
  {
   "cell_type": "markdown",
   "id": "disturbed-worcester",
   "metadata": {},
   "source": [
    "# How to created Tensor?"
   ]
  },
  {
   "cell_type": "code",
   "execution_count": 7,
   "id": "looking-strand",
   "metadata": {},
   "outputs": [],
   "source": [
    "#1 by python list , np.array\n",
    "t1 = torch.Tensor([[1,2,3],[4,5,6]])\n",
    "t2 = torch.Tensor(np.arange(24).reshape(2,3,4))"
   ]
  },
  {
   "cell_type": "code",
   "execution_count": 9,
   "id": "acute-science",
   "metadata": {},
   "outputs": [
    {
     "data": {
      "text/plain": [
       "tensor([[1., 2., 3.],\n",
       "        [4., 5., 6.]])"
      ]
     },
     "execution_count": 9,
     "metadata": {},
     "output_type": "execute_result"
    }
   ],
   "source": [
    "t1"
   ]
  },
  {
   "cell_type": "code",
   "execution_count": 10,
   "id": "emotional-association",
   "metadata": {},
   "outputs": [
    {
     "data": {
      "text/plain": [
       "tensor([[[ 0.,  1.,  2.,  3.],\n",
       "         [ 4.,  5.,  6.,  7.],\n",
       "         [ 8.,  9., 10., 11.]],\n",
       "\n",
       "        [[12., 13., 14., 15.],\n",
       "         [16., 17., 18., 19.],\n",
       "         [20., 21., 22., 23.]]])"
      ]
     },
     "execution_count": 10,
     "metadata": {},
     "output_type": "execute_result"
    }
   ],
   "source": [
    "t2"
   ]
  },
  {
   "cell_type": "code",
   "execution_count": 11,
   "id": "charitable-lincoln",
   "metadata": {},
   "outputs": [
    {
     "data": {
      "text/plain": [
       "tensor([[0., 0., 0., 0.],\n",
       "        [0., 0., 0., 0.],\n",
       "        [0., 0., 0., 0.]])"
      ]
     },
     "execution_count": 11,
     "metadata": {},
     "output_type": "execute_result"
    }
   ],
   "source": [
    "#2 by some function : empty ones zeros rand randint randn\n",
    "torch.empty(3,4)"
   ]
  },
  {
   "cell_type": "code",
   "execution_count": 12,
   "id": "lesser-lexington",
   "metadata": {},
   "outputs": [
    {
     "data": {
      "text/plain": [
       "tensor([[1., 1., 1.],\n",
       "        [1., 1., 1.],\n",
       "        [1., 1., 1.]])"
      ]
     },
     "execution_count": 12,
     "metadata": {},
     "output_type": "execute_result"
    }
   ],
   "source": [
    "torch.ones(3,3)"
   ]
  },
  {
   "cell_type": "code",
   "execution_count": 15,
   "id": "beginning-token",
   "metadata": {},
   "outputs": [
    {
     "data": {
      "text/plain": [
       "tensor([[0., 0., 0.]])"
      ]
     },
     "execution_count": 15,
     "metadata": {},
     "output_type": "execute_result"
    }
   ],
   "source": [
    "torch.zeros(1,3)"
   ]
  },
  {
   "cell_type": "code",
   "execution_count": 16,
   "id": "arbitrary-dispute",
   "metadata": {},
   "outputs": [
    {
     "data": {
      "text/plain": [
       "tensor([[[0.3187, 0.5539, 0.9354, 0.4024],\n",
       "         [0.5192, 0.4604, 0.4420, 0.6772],\n",
       "         [0.2962, 0.1728, 0.3426, 0.3545]],\n",
       "\n",
       "        [[0.7321, 0.5099, 0.9623, 0.7118],\n",
       "         [0.9650, 0.9822, 0.6171, 0.1338],\n",
       "         [0.2664, 0.3939, 0.4370, 0.5858]]])"
      ]
     },
     "execution_count": 16,
     "metadata": {},
     "output_type": "execute_result"
    }
   ],
   "source": [
    "torch.rand(2,3,4)#[0,1)"
   ]
  },
  {
   "cell_type": "code",
   "execution_count": 17,
   "id": "serial-deposit",
   "metadata": {},
   "outputs": [
    {
     "data": {
      "text/plain": [
       "tensor([[7, 2, 5, 5],\n",
       "        [9, 3, 4, 8],\n",
       "        [6, 0, 8, 6]])"
      ]
     },
     "execution_count": 17,
     "metadata": {},
     "output_type": "execute_result"
    }
   ],
   "source": [
    "torch.randint(low = 0 ,high = 10 , size = [3,4])"
   ]
  },
  {
   "cell_type": "code",
   "execution_count": 19,
   "id": "impossible-tucson",
   "metadata": {},
   "outputs": [
    {
     "data": {
      "text/plain": [
       "tensor([[-0.7424, -0.0775,  0.2342,  0.8501],\n",
       "        [-0.0579, -0.4127,  2.0670,  0.9691],\n",
       "        [-0.9250, -1.5155, -0.9247, -1.2157]])"
      ]
     },
     "execution_count": 19,
     "metadata": {},
     "output_type": "execute_result"
    }
   ],
   "source": [
    "torch.randn([3,4])# E = 0 Var = 1"
   ]
  },
  {
   "cell_type": "markdown",
   "id": "certain-timer",
   "metadata": {},
   "source": [
    "# Some Attributes of Tensor"
   ]
  },
  {
   "cell_type": "markdown",
   "id": "after-florist",
   "metadata": {},
   "source": [
    "item() when the tensor has only a element,the tensor.item get it method "
   ]
  },
  {
   "cell_type": "code",
   "execution_count": 21,
   "id": "answering-catalyst",
   "metadata": {},
   "outputs": [],
   "source": [
    "t3  = torch.Tensor([[2]])"
   ]
  },
  {
   "cell_type": "code",
   "execution_count": 22,
   "id": "processed-banana",
   "metadata": {},
   "outputs": [
    {
     "data": {
      "text/plain": [
       "tensor([[2.]])"
      ]
     },
     "execution_count": 22,
     "metadata": {},
     "output_type": "execute_result"
    }
   ],
   "source": [
    "t3"
   ]
  },
  {
   "cell_type": "code",
   "execution_count": 24,
   "id": "modern-blocking",
   "metadata": {},
   "outputs": [
    {
     "data": {
      "text/plain": [
       "2.0"
      ]
     },
     "execution_count": 24,
     "metadata": {},
     "output_type": "execute_result"
    }
   ],
   "source": [
    "t3.item()"
   ]
  },
  {
   "cell_type": "markdown",
   "id": "apparent-berry",
   "metadata": {},
   "source": [
    "numpy() make torch.tensor to numpy.ndarray"
   ]
  },
  {
   "cell_type": "code",
   "execution_count": 25,
   "id": "hindu-magazine",
   "metadata": {},
   "outputs": [
    {
     "data": {
      "text/plain": [
       "array([[[ 0.,  1.,  2.,  3.],\n",
       "        [ 4.,  5.,  6.,  7.],\n",
       "        [ 8.,  9., 10., 11.]],\n",
       "\n",
       "       [[12., 13., 14., 15.],\n",
       "        [16., 17., 18., 19.],\n",
       "        [20., 21., 22., 23.]]], dtype=float32)"
      ]
     },
     "execution_count": 25,
     "metadata": {},
     "output_type": "execute_result"
    }
   ],
   "source": [
    "t2.numpy()"
   ]
  },
  {
   "cell_type": "markdown",
   "id": "requested-protection",
   "metadata": {},
   "source": [
    "like numpy tensor has dim() size() and reshape()/view()"
   ]
  },
  {
   "cell_type": "code",
   "execution_count": 26,
   "id": "excited-woman",
   "metadata": {},
   "outputs": [
    {
     "data": {
      "text/plain": [
       "3"
      ]
     },
     "execution_count": 26,
     "metadata": {},
     "output_type": "execute_result"
    }
   ],
   "source": [
    "t2.dim()"
   ]
  },
  {
   "cell_type": "code",
   "execution_count": 27,
   "id": "arctic-process",
   "metadata": {},
   "outputs": [
    {
     "data": {
      "text/plain": [
       "torch.Size([2, 3, 4])"
      ]
     },
     "execution_count": 27,
     "metadata": {},
     "output_type": "execute_result"
    }
   ],
   "source": [
    "t2.size()"
   ]
  },
  {
   "cell_type": "code",
   "execution_count": 28,
   "id": "comfortable-attendance",
   "metadata": {},
   "outputs": [
    {
     "data": {
      "text/plain": [
       "tensor([[[ 0.,  1.,  2.,  3.],\n",
       "         [ 4.,  5.,  6.,  7.]],\n",
       "\n",
       "        [[ 8.,  9., 10., 11.],\n",
       "         [12., 13., 14., 15.]],\n",
       "\n",
       "        [[16., 17., 18., 19.],\n",
       "         [20., 21., 22., 23.]]])"
      ]
     },
     "execution_count": 28,
     "metadata": {},
     "output_type": "execute_result"
    }
   ],
   "source": [
    "t2.view(3,2,4)"
   ]
  },
  {
   "cell_type": "markdown",
   "id": "radical-minimum",
   "metadata": {},
   "source": [
    "Tensor has of course max() min() means() and so on"
   ]
  },
  {
   "cell_type": "markdown",
   "id": "acknowledged-calculation",
   "metadata": {},
   "source": [
    "Futhermore transpose() t() and permute() change the view way of the 'cubic'"
   ]
  },
  {
   "cell_type": "markdown",
   "id": "angry-regard",
   "metadata": {},
   "source": [
    "the dtype transform should be attention,and the default dtype is float"
   ]
  },
  {
   "cell_type": "markdown",
   "id": "municipal-fusion",
   "metadata": {},
   "source": [
    "# Operation "
   ]
  },
  {
   "cell_type": "code",
   "execution_count": 32,
   "id": "according-still",
   "metadata": {},
   "outputs": [],
   "source": [
    "x = torch.ones(3,5,dtype = torch.float)"
   ]
  },
  {
   "cell_type": "code",
   "execution_count": 34,
   "id": "alternate-onion",
   "metadata": {},
   "outputs": [],
   "source": [
    "y = torch.rand(3,5)"
   ]
  },
  {
   "cell_type": "code",
   "execution_count": 36,
   "id": "musical-concern",
   "metadata": {},
   "outputs": [
    {
     "data": {
      "text/plain": [
       "tensor([[1.5670, 1.9592, 1.8663, 1.2247, 1.9387],\n",
       "        [1.4041, 1.8668, 1.4370, 1.0855, 1.1656],\n",
       "        [1.4847, 1.9126, 1.0244, 1.1426, 1.5524]])"
      ]
     },
     "execution_count": 36,
     "metadata": {},
     "output_type": "execute_result"
    }
   ],
   "source": [
    "torch.add(x,y)"
   ]
  },
  {
   "cell_type": "code",
   "execution_count": 37,
   "id": "funky-shopper",
   "metadata": {},
   "outputs": [
    {
     "data": {
      "text/plain": [
       "tensor([[1.5670, 1.9592, 1.8663, 1.2247, 1.9387],\n",
       "        [1.4041, 1.8668, 1.4370, 1.0855, 1.1656],\n",
       "        [1.4847, 1.9126, 1.0244, 1.1426, 1.5524]])"
      ]
     },
     "execution_count": 37,
     "metadata": {},
     "output_type": "execute_result"
    }
   ],
   "source": [
    "x+y"
   ]
  },
  {
   "cell_type": "markdown",
   "id": "blocked-indiana",
   "metadata": {},
   "source": [
    "The difference between func and func_ is that the later will change the data of the caller"
   ]
  },
  {
   "cell_type": "code",
   "execution_count": 39,
   "id": "objective-jimmy",
   "metadata": {},
   "outputs": [
    {
     "data": {
      "text/plain": [
       "tensor([[1., 1., 1., 1., 1.],\n",
       "        [1., 1., 1., 1., 1.],\n",
       "        [1., 1., 1., 1., 1.]])"
      ]
     },
     "execution_count": 39,
     "metadata": {},
     "output_type": "execute_result"
    }
   ],
   "source": [
    "x # x has not been modifide"
   ]
  },
  {
   "cell_type": "code",
   "execution_count": 40,
   "id": "lesbian-blast",
   "metadata": {},
   "outputs": [
    {
     "data": {
      "text/plain": [
       "tensor([[1.5670, 1.9592, 1.8663, 1.2247, 1.9387],\n",
       "        [1.4041, 1.8668, 1.4370, 1.0855, 1.1656],\n",
       "        [1.4847, 1.9126, 1.0244, 1.1426, 1.5524]])"
      ]
     },
     "execution_count": 40,
     "metadata": {},
     "output_type": "execute_result"
    }
   ],
   "source": [
    "x.add_(y)"
   ]
  },
  {
   "cell_type": "code",
   "execution_count": 41,
   "id": "institutional-purse",
   "metadata": {},
   "outputs": [
    {
     "data": {
      "text/plain": [
       "tensor([[1.5670, 1.9592, 1.8663, 1.2247, 1.9387],\n",
       "        [1.4041, 1.8668, 1.4370, 1.0855, 1.1656],\n",
       "        [1.4847, 1.9126, 1.0244, 1.1426, 1.5524]])"
      ]
     },
     "execution_count": 41,
     "metadata": {},
     "output_type": "execute_result"
    }
   ],
   "source": [
    "x # x has been modifide"
   ]
  },
  {
   "cell_type": "markdown",
   "id": "touched-nevada",
   "metadata": {},
   "source": [
    "# Compute on GPU"
   ]
  },
  {
   "cell_type": "markdown",
   "id": "rocky-facial",
   "metadata": {},
   "source": [
    "use the method torch.cuda.is_available() , the attribute of 'device' and the .to()"
   ]
  },
  {
   "cell_type": "code",
   "execution_count": 43,
   "id": "floppy-bearing",
   "metadata": {},
   "outputs": [],
   "source": [
    "device = torch.device(\"cuda:0\" if torch.cuda.is_available() else \"cpu\")"
   ]
  },
  {
   "cell_type": "code",
   "execution_count": 44,
   "id": "measured-closure",
   "metadata": {},
   "outputs": [
    {
     "data": {
      "text/plain": [
       "device(type='cuda', index=0)"
      ]
     },
     "execution_count": 44,
     "metadata": {},
     "output_type": "execute_result"
    }
   ],
   "source": [
    "device"
   ]
  },
  {
   "cell_type": "code",
   "execution_count": 48,
   "id": "velvet-savage",
   "metadata": {},
   "outputs": [
    {
     "data": {
      "text/plain": [
       "tensor([[0., 0., 0., 0.],\n",
       "        [0., 0., 0., 0.],\n",
       "        [0., 0., 0., 0.]], device='cuda:0')"
      ]
     },
     "execution_count": 48,
     "metadata": {},
     "output_type": "execute_result"
    }
   ],
   "source": [
    "torch.zeros(3,4,device = device)"
   ]
  },
  {
   "cell_type": "code",
   "execution_count": 49,
   "id": "mobile-tuning",
   "metadata": {},
   "outputs": [
    {
     "data": {
      "text/plain": [
       "tensor([[[ 0.,  1.,  2.,  3.],\n",
       "         [ 4.,  5.,  6.,  7.],\n",
       "         [ 8.,  9., 10., 11.]],\n",
       "\n",
       "        [[12., 13., 14., 15.],\n",
       "         [16., 17., 18., 19.],\n",
       "         [20., 21., 22., 23.]]])"
      ]
     },
     "execution_count": 49,
     "metadata": {},
     "output_type": "execute_result"
    }
   ],
   "source": [
    "t2"
   ]
  },
  {
   "cell_type": "code",
   "execution_count": 50,
   "id": "micro-belly",
   "metadata": {},
   "outputs": [
    {
     "data": {
      "text/plain": [
       "tensor([[[ 0.,  1.,  2.,  3.],\n",
       "         [ 4.,  5.,  6.,  7.],\n",
       "         [ 8.,  9., 10., 11.]],\n",
       "\n",
       "        [[12., 13., 14., 15.],\n",
       "         [16., 17., 18., 19.],\n",
       "         [20., 21., 22., 23.]]], device='cuda:0')"
      ]
     },
     "execution_count": 50,
     "metadata": {},
     "output_type": "execute_result"
    }
   ],
   "source": [
    "t2.to(device) # change the device by .to()"
   ]
  },
  {
   "cell_type": "markdown",
   "id": "elementary-amendment",
   "metadata": {},
   "source": [
    "# Computing the gradiant"
   ]
  },
  {
   "cell_type": "markdown",
   "id": "raised-philip",
   "metadata": {},
   "source": [
    "if we want to compute gradiant of a variable,set requires_grad to True (default = False)"
   ]
  },
  {
   "cell_type": "code",
   "execution_count": 54,
   "id": "neural-default",
   "metadata": {},
   "outputs": [],
   "source": [
    "x = torch.ones(size = [2,2],requires_grad = True)"
   ]
  },
  {
   "cell_type": "markdown",
   "id": "empty-cleveland",
   "metadata": {},
   "source": [
    "we can also change x.require_grad by:\n",
    "    \n",
    "    x.require_grad_(True)"
   ]
  },
  {
   "cell_type": "code",
   "execution_count": 55,
   "id": "outside-jacksonville",
   "metadata": {},
   "outputs": [],
   "source": [
    "y = x+2"
   ]
  },
  {
   "cell_type": "code",
   "execution_count": 56,
   "id": "patient-hydrogen",
   "metadata": {},
   "outputs": [],
   "source": [
    "z = 3*(y**2)"
   ]
  },
  {
   "cell_type": "code",
   "execution_count": 57,
   "id": "mature-fishing",
   "metadata": {},
   "outputs": [],
   "source": [
    "out = z.mean()"
   ]
  },
  {
   "cell_type": "code",
   "execution_count": 58,
   "id": "nutritional-bridge",
   "metadata": {
    "scrolled": true
   },
   "outputs": [
    {
     "data": {
      "text/plain": [
       "tensor(27., grad_fn=<MeanBackward0>)"
      ]
     },
     "execution_count": 58,
     "metadata": {},
     "output_type": "execute_result"
    }
   ],
   "source": [
    "out"
   ]
  },
  {
   "cell_type": "code",
   "execution_count": 60,
   "id": "brilliant-array",
   "metadata": {},
   "outputs": [],
   "source": [
    "out.backward() # 反向传播"
   ]
  },
  {
   "cell_type": "code",
   "execution_count": 61,
   "id": "cognitive-strand",
   "metadata": {},
   "outputs": [
    {
     "data": {
      "text/plain": [
       "tensor([[4.5000, 4.5000],\n",
       "        [4.5000, 4.5000]])"
      ]
     },
     "execution_count": 61,
     "metadata": {},
     "output_type": "execute_result"
    }
   ],
   "source": [
    "x.grad # 结果存在.grad 中"
   ]
  },
  {
   "cell_type": "markdown",
   "id": "disturbed-belly",
   "metadata": {},
   "source": [
    "if we dont need gradient computing in some steps\n",
    "just use with- method like：\n",
    "with torch.no_grad():\n",
    "    xxx\n",
    "xxx"
   ]
  },
  {
   "cell_type": "code",
   "execution_count": null,
   "id": "ideal-emerald",
   "metadata": {},
   "outputs": [],
   "source": []
  }
 ],
 "metadata": {
  "kernelspec": {
   "display_name": "Python 3 (ipykernel)",
   "language": "python",
   "name": "python3"
  },
  "language_info": {
   "codemirror_mode": {
    "name": "ipython",
    "version": 3
   },
   "file_extension": ".py",
   "mimetype": "text/x-python",
   "name": "python",
   "nbconvert_exporter": "python",
   "pygments_lexer": "ipython3",
   "version": "3.9.2"
  }
 },
 "nbformat": 4,
 "nbformat_minor": 5
}
