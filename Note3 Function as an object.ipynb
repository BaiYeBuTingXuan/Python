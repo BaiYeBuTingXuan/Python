{
 "cells": [
  {
   "cell_type": "markdown",
   "id": "emotional-possible",
   "metadata": {},
   "source": [
    "Aware of that it is type also,function can be transited or returned,even be a element in list. "
   ]
  },
  {
   "cell_type": "code",
   "execution_count": 10,
   "id": "homeless-covering",
   "metadata": {},
   "outputs": [],
   "source": [
    "def applyToEach(L,f):\n",
    "    for i in range(len(L)):\n",
    "        L[i] = f(L[i])"
   ]
  },
  {
   "cell_type": "code",
   "execution_count": 11,
   "id": "treated-arkansas",
   "metadata": {},
   "outputs": [],
   "source": [
    "L = [2,3,4,-1]"
   ]
  },
  {
   "cell_type": "code",
   "execution_count": 12,
   "id": "valuable-walter",
   "metadata": {},
   "outputs": [],
   "source": [
    "applyToEach(L,abs)"
   ]
  },
  {
   "cell_type": "code",
   "execution_count": 13,
   "id": "significant-model",
   "metadata": {},
   "outputs": [
    {
     "data": {
      "text/plain": [
       "[2, 3, 4, 1]"
      ]
     },
     "execution_count": 13,
     "metadata": {},
     "output_type": "execute_result"
    }
   ],
   "source": [
    "L"
   ]
  },
  {
   "cell_type": "markdown",
   "id": "favorite-satin",
   "metadata": {},
   "source": [
    "Above is equivelant to using map(,),and must use literation to see watch happen."
   ]
  },
  {
   "cell_type": "code",
   "execution_count": 19,
   "id": "backed-verse",
   "metadata": {},
   "outputs": [
    {
     "name": "stdout",
     "output_type": "stream",
     "text": [
      "2\n",
      "3\n",
      "4\n",
      "1\n"
     ]
    }
   ],
   "source": [
    "L = [2,3,4,-1]\n",
    "for elt in map(abs,L):\n",
    "    print(elt)"
   ]
  },
  {
   "cell_type": "code",
   "execution_count": 17,
   "id": "reverse-implement",
   "metadata": {},
   "outputs": [
    {
     "data": {
      "text/plain": [
       "<map at 0x2ad86a9df70>"
      ]
     },
     "execution_count": 17,
     "metadata": {},
     "output_type": "execute_result"
    }
   ],
   "source": [
    "L"
   ]
  },
  {
   "cell_type": "code",
   "execution_count": null,
   "id": "regional-sister",
   "metadata": {},
   "outputs": [],
   "source": []
  }
 ],
 "metadata": {
  "kernelspec": {
   "display_name": "Python 3 (ipykernel)",
   "language": "python",
   "name": "python3"
  },
  "language_info": {
   "codemirror_mode": {
    "name": "ipython",
    "version": 3
   },
   "file_extension": ".py",
   "mimetype": "text/x-python",
   "name": "python",
   "nbconvert_exporter": "python",
   "pygments_lexer": "ipython3",
   "version": "3.9.2"
  }
 },
 "nbformat": 4,
 "nbformat_minor": 5
}
