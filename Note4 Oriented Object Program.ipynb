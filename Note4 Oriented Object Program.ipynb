{
 "cells": [
  {
   "cell_type": "markdown",
   "metadata": {},
   "source": [
    "# OOP：Object Oriented Program"
   ]
  },
  {
   "cell_type": "code",
   "execution_count": 2,
   "metadata": {},
   "outputs": [],
   "source": [
    "import math\n",
    "\n",
    "class Coordinate(object):\n",
    "        #first thing to do is to define how to define a instance\n",
    "        classvalue = 1 #Define class valuable without 'self.'\n",
    "        def __init__(self,x,y):\n",
    "                \"\"\" create Coordinate points (x,y)\"\"\"\n",
    "                self.x = x\n",
    "                self.y = y\n",
    "            \n",
    "        def distance(self,other):\n",
    "                \"\"\" get the distance between one and other \"\"\"\n",
    "                x_diff = self.x - other.x\n",
    "                y_diff = self.y - other.y\n",
    "                return math.sqrt(x_diff**2+y_diff**2)\n",
    "\n",
    "        def __str__(self):\n",
    "                \"\"\" Call the __str__ method when using print() \"\"\"\n",
    "                return '('+str(self.x)+','+str(self.y)+')'\n",
    "        \n",
    "        def __add__(self,other):\n",
    "                \"\"\"\" Call __add__ method when using '+' \"\"\"\n",
    "                return Coordinate(self.x+other.x,self.y+other.y)\n",
    "        \n",
    "        def __sub__(self,other):\n",
    "                \"\"\" Call __sub__ method when using '-' \"\"\"\n",
    "                return Coordinate(self.x-other.x,self.y-other.y)\n",
    "            "
   ]
  },
  {
   "cell_type": "code",
   "execution_count": 3,
   "metadata": {},
   "outputs": [
    {
     "data": {
      "text/plain": [
       "5.0"
      ]
     },
     "execution_count": 3,
     "metadata": {},
     "output_type": "execute_result"
    }
   ],
   "source": [
    "c = Coordinate(3,4)\n",
    "orign = Coordinate(0,0)\n",
    "c.distance(orign)"
   ]
  },
  {
   "cell_type": "markdown",
   "metadata": {},
   "source": [
    "DON NOT provide the argument 'self',for Python gives it automatically.\n",
    "\n",
    "The '.' operator is used to get access to any attribute,value and method included."
   ]
  },
  {
   "cell_type": "code",
   "execution_count": 4,
   "metadata": {},
   "outputs": [
    {
     "data": {
      "text/plain": [
       "5.0"
      ]
     },
     "execution_count": 4,
     "metadata": {},
     "output_type": "execute_result"
    }
   ],
   "source": [
    "Coordinate.distance(c,orign)"
   ]
  },
  {
   "cell_type": "markdown",
   "metadata": {},
   "source": [
    "In order to call a method,using instance or class.The former one not need to pass 'self' argument."
   ]
  },
  {
   "cell_type": "code",
   "execution_count": 5,
   "metadata": {},
   "outputs": [
    {
     "name": "stdout",
     "output_type": "stream",
     "text": [
      "(3,4)\n"
     ]
    }
   ],
   "source": [
    "print(c)"
   ]
  },
  {
   "cell_type": "markdown",
   "metadata": {},
   "source": [
    "We can use type() to get the type of an instance,or use isinstance to check if an isinstance is a class"
   ]
  },
  {
   "cell_type": "code",
   "execution_count": 6,
   "metadata": {},
   "outputs": [
    {
     "name": "stdout",
     "output_type": "stream",
     "text": [
      "<class 'type'>\n",
      "<class '__main__.Coordinate'>\n"
     ]
    },
    {
     "data": {
      "text/plain": [
       "True"
      ]
     },
     "execution_count": 6,
     "metadata": {},
     "output_type": "execute_result"
    }
   ],
   "source": [
    "print(type(Coordinate))\n",
    "print(type(c))\n",
    "isinstance(c,Coordinate)\n"
   ]
  },
  {
   "cell_type": "markdown",
   "metadata": {},
   "source": [
    "Like __str__ in use of print(),there are:\n",
    "__\\_\\_add\\_\\___,__\\_\\_sub\\_\\___,__\\_\\_eq\\_\\___,__\\_\\_lt\\_\\___,__\\_\\_gt\\_\\___,__\\_\\_len\\_\\___"
   ]
  },
  {
   "cell_type": "markdown",
   "metadata": {},
   "source": [
    "## Hierachies\n",
    "- Parent class\n",
    "- Child class\n",
    "- Inherit:add more __info__,add more __behavior__,and override __behavior__"
   ]
  },
  {
   "cell_type": "markdown",
   "metadata": {},
   "source": [
    "### Override\n",
    "- Firstly,looking for the method in the current instance.\n",
    "- If not found,looking for that up the Hierachy."
   ]
  },
  {
   "cell_type": "code",
   "execution_count": null,
   "metadata": {},
   "outputs": [],
   "source": []
  },
  {
   "cell_type": "markdown",
   "metadata": {},
   "source": [
    "## Conventions\n",
    "- Using __super()__ to call the parent class.\n",
    "- Name a private variable using frontier double underline '\\_\\_',like self.\\_\\_age and using frontier single underline '\\_' like self._name to name a protect variable.To be mentioned,this regulation depends on human programmers.In contrast,functions with the end of '\\_' usually modify the calling obj.\n",
    "- Using __type()__ to get the type of a class or an instance,while using __isinstance(obj,class)__ to tell whether an instance is a type of class."
   ]
  },
  {
   "cell_type": "markdown",
   "metadata": {},
   "source": []
  }
 ],
 "metadata": {
  "interpreter": {
   "hash": "4eaf1be304415beee96765ae99c3f893cc8312c7f1196698e6029668e9aeb3e5"
  },
  "kernelspec": {
   "display_name": "Python 3.9.2 64-bit (system)",
   "language": "python",
   "name": "python3"
  },
  "language_info": {
   "codemirror_mode": {
    "name": "ipython",
    "version": 3
   },
   "file_extension": ".py",
   "mimetype": "text/x-python",
   "name": "python",
   "nbconvert_exporter": "python",
   "pygments_lexer": "ipython3",
   "version": "3.9.2"
  },
  "orig_nbformat": 4
 },
 "nbformat": 4,
 "nbformat_minor": 2
}
