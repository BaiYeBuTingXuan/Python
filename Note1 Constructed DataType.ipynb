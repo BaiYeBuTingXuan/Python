{
 "cells": [
  {
   "cell_type": "markdown",
   "id": "worse-reviewer",
   "metadata": {},
   "source": [
    "# Tuple\n",
    "Tuple is a arthitecture of data in python.\n",
    "Tuple is __not__ mutable."
   ]
  },
  {
   "cell_type": "code",
   "execution_count": 3,
   "id": "elect-solid",
   "metadata": {},
   "outputs": [],
   "source": [
    "t = (2, 'one', 3)"
   ]
  },
  {
   "cell_type": "code",
   "execution_count": 4,
   "id": "confused-costs",
   "metadata": {},
   "outputs": [
    {
     "data": {
      "text/plain": [
       "(2, 'one', 3)"
      ]
     },
     "execution_count": 4,
     "metadata": {},
     "output_type": "execute_result"
    }
   ],
   "source": [
    "t"
   ]
  },
  {
   "cell_type": "markdown",
   "id": "alone-christmas",
   "metadata": {},
   "source": [
    "there exists empty tuple"
   ]
  },
  {
   "cell_type": "code",
   "execution_count": 5,
   "id": "alternative-tribute",
   "metadata": {},
   "outputs": [],
   "source": [
    "te = ()"
   ]
  },
  {
   "cell_type": "code",
   "execution_count": 6,
   "id": "printable-mediterranean",
   "metadata": {},
   "outputs": [
    {
     "data": {
      "text/plain": [
       "()"
      ]
     },
     "execution_count": 6,
     "metadata": {},
     "output_type": "execute_result"
    }
   ],
   "source": [
    "te"
   ]
  },
  {
   "cell_type": "markdown",
   "id": "large-portland",
   "metadata": {},
   "source": [
    "Tuple can be sliced with []"
   ]
  },
  {
   "cell_type": "code",
   "execution_count": 7,
   "id": "after-championship",
   "metadata": {},
   "outputs": [
    {
     "data": {
      "text/plain": [
       "('one',)"
      ]
     },
     "execution_count": 7,
     "metadata": {},
     "output_type": "execute_result"
    }
   ],
   "source": [
    "t[1:2]"
   ]
  },
  {
   "cell_type": "markdown",
   "id": "informational-batch",
   "metadata": {},
   "source": [
    "The comma implies that it is a tuple"
   ]
  },
  {
   "cell_type": "markdown",
   "id": "judicial-california",
   "metadata": {},
   "source": [
    "One of the usual use is to swap:"
   ]
  },
  {
   "cell_type": "code",
   "execution_count": 8,
   "id": "armed-corner",
   "metadata": {},
   "outputs": [],
   "source": [
    "x = 1\n",
    "y = 2"
   ]
  },
  {
   "cell_type": "code",
   "execution_count": 9,
   "id": "encouraging-berry",
   "metadata": {},
   "outputs": [],
   "source": [
    "(x,y) = (y,x)"
   ]
  },
  {
   "cell_type": "code",
   "execution_count": 10,
   "id": "surprised-tuition",
   "metadata": {},
   "outputs": [
    {
     "data": {
      "text/plain": [
       "2"
      ]
     },
     "execution_count": 10,
     "metadata": {},
     "output_type": "execute_result"
    }
   ],
   "source": [
    "x"
   ]
  },
  {
   "cell_type": "code",
   "execution_count": 11,
   "id": "sonic-perspective",
   "metadata": {},
   "outputs": [
    {
     "data": {
      "text/plain": [
       "1"
      ]
     },
     "execution_count": 11,
     "metadata": {},
     "output_type": "execute_result"
    }
   ],
   "source": [
    "y"
   ]
  },
  {
   "cell_type": "markdown",
   "id": "opponent-black",
   "metadata": {},
   "source": [
    "## Manipulating Tuples"
   ]
  },
  {
   "cell_type": "markdown",
   "id": "liable-combine",
   "metadata": {},
   "source": [
    "The '+' will link two Tuples"
   ]
  },
  {
   "cell_type": "code",
   "execution_count": 12,
   "id": "oriented-breach",
   "metadata": {},
   "outputs": [],
   "source": [
    "t1 = (2,3)"
   ]
  },
  {
   "cell_type": "code",
   "execution_count": 13,
   "id": "suburban-intensity",
   "metadata": {},
   "outputs": [
    {
     "data": {
      "text/plain": [
       "(2, 3, 2, 'one', 3)"
      ]
     },
     "execution_count": 13,
     "metadata": {},
     "output_type": "execute_result"
    }
   ],
   "source": [
    "t1 + t"
   ]
  },
  {
   "cell_type": "code",
   "execution_count": 14,
   "id": "modern-directive",
   "metadata": {},
   "outputs": [],
   "source": [
    "def get_data(aTuple):\n",
    "    nums = ()\n",
    "    words = ()\n",
    "    # empty tuple for preparation\n",
    "    for t in aTuple:\n",
    "        nums = nums + (t[0],) # the comma means that it's a tuple\n",
    "        if t[1] not in words:\n",
    "            words = words + (t[1],)\n",
    "    min_nums = min(nums)\n",
    "    max_nums = max(nums)\n",
    "    unique_words = len(words)\n",
    "    return (min_nums,max_nums,unique_words) # return using tuple"
   ]
  },
  {
   "cell_type": "code",
   "execution_count": 15,
   "id": "diagnostic-trainer",
   "metadata": {},
   "outputs": [],
   "source": [
    "(small,large,words) = get_data(((1,'mine'),\n",
    "                              (3,'yours'),\n",
    "                              (5,'ours'),\n",
    "                              (7,'mine')))"
   ]
  },
  {
   "cell_type": "code",
   "execution_count": 16,
   "id": "resident-tennessee",
   "metadata": {},
   "outputs": [
    {
     "name": "stdout",
     "output_type": "stream",
     "text": [
      "1 7 3\n"
     ]
    }
   ],
   "source": [
    "print(small,large,words)"
   ]
  },
  {
   "cell_type": "markdown",
   "id": "supreme-granny",
   "metadata": {},
   "source": [
    "Above we use Tuple to input and output of a function."
   ]
  },
  {
   "cell_type": "markdown",
   "id": "established-domestic",
   "metadata": {},
   "source": [
    "# Lists"
   ]
  },
  {
   "cell_type": "markdown",
   "id": "minus-environment",
   "metadata": {},
   "source": [
    "- ordered squence\n",
    "- denoted by square brackets\n",
    "- elements are usually homogeneous but can be different uncommonly\n",
    "- list is mutable while tuple is not"
   ]
  },
  {
   "cell_type": "code",
   "execution_count": 17,
   "id": "interested-merchant",
   "metadata": {},
   "outputs": [],
   "source": [
    "alist = []\n",
    "blist = [2,'a',4,True]\n",
    "L = [2,1,3]"
   ]
  },
  {
   "cell_type": "code",
   "execution_count": 18,
   "id": "homeless-funeral",
   "metadata": {},
   "outputs": [
    {
     "data": {
      "text/plain": [
       "3"
      ]
     },
     "execution_count": 18,
     "metadata": {},
     "output_type": "execute_result"
    }
   ],
   "source": [
    "len(L)"
   ]
  },
  {
   "cell_type": "code",
   "execution_count": 19,
   "id": "bibliographic-string",
   "metadata": {},
   "outputs": [
    {
     "name": "stdout",
     "output_type": "stream",
     "text": [
      "[2, 5, 3]\n"
     ]
    }
   ],
   "source": [
    "L[1] = 5 # list is mutable\n",
    "print(L)"
   ]
  },
  {
   "cell_type": "markdown",
   "id": "distinct-suicide",
   "metadata": {},
   "source": [
    "To __iterating__,using the pattern below commonly"
   ]
  },
  {
   "cell_type": "code",
   "execution_count": 20,
   "id": "decent-english",
   "metadata": {},
   "outputs": [],
   "source": [
    "def listsum(L):\n",
    "    total = 0\n",
    "    for i in L:\n",
    "        total = total + i \n",
    "    return total"
   ]
  },
  {
   "cell_type": "code",
   "execution_count": 21,
   "id": "macro-danish",
   "metadata": {},
   "outputs": [
    {
     "data": {
      "text/plain": [
       "10"
      ]
     },
     "execution_count": 21,
     "metadata": {},
     "output_type": "execute_result"
    }
   ],
   "source": [
    "listsum(L)"
   ]
  },
  {
   "cell_type": "markdown",
   "id": "historical-finger",
   "metadata": {},
   "source": [
    "## Operatition on list"
   ]
  },
  {
   "cell_type": "code",
   "execution_count": 22,
   "id": "statewide-olive",
   "metadata": {},
   "outputs": [],
   "source": [
    "L.append(4)"
   ]
  },
  {
   "cell_type": "code",
   "execution_count": 23,
   "id": "unlikely-childhood",
   "metadata": {},
   "outputs": [
    {
     "name": "stdout",
     "output_type": "stream",
     "text": [
      "[2, 5, 3, 4]\n"
     ]
    }
   ],
   "source": [
    "print(L)"
   ]
  },
  {
   "cell_type": "markdown",
   "id": "facial-alpha",
   "metadata": {},
   "source": [
    "Add elements into a list is to  attribute append().However,\"+\" can link two lists,or use extend() to modify the first addtion"
   ]
  },
  {
   "cell_type": "code",
   "execution_count": 24,
   "id": "instant-sussex",
   "metadata": {},
   "outputs": [
    {
     "data": {
      "text/plain": [
       "[2, 1, 3, 4, 5, 6]"
      ]
     },
     "execution_count": 24,
     "metadata": {},
     "output_type": "execute_result"
    }
   ],
   "source": [
    "L1 = [2,1,3]\n",
    "L2 = [4,5,6]\n",
    "L1+L2"
   ]
  },
  {
   "cell_type": "code",
   "execution_count": 25,
   "id": "whole-advantage",
   "metadata": {},
   "outputs": [],
   "source": [
    "L1.extend(L2)"
   ]
  },
  {
   "cell_type": "code",
   "execution_count": 26,
   "id": "packed-tracker",
   "metadata": {},
   "outputs": [
    {
     "data": {
      "text/plain": [
       "[2, 1, 3, 4, 5, 6]"
      ]
     },
     "execution_count": 26,
     "metadata": {},
     "output_type": "execute_result"
    }
   ],
   "source": [
    "L1"
   ]
  },
  {
   "cell_type": "markdown",
   "id": "spread-costs",
   "metadata": {},
   "source": [
    "To remove specific elements,using del(),pop()(as a list) or remove(). \n",
    "The remove() will del the first element that meets the parameter or gives error if no such element."
   ]
  },
  {
   "cell_type": "code",
   "execution_count": 27,
   "id": "roman-energy",
   "metadata": {},
   "outputs": [],
   "source": [
    "del(L1[2])"
   ]
  },
  {
   "cell_type": "code",
   "execution_count": 28,
   "id": "executive-landscape",
   "metadata": {},
   "outputs": [
    {
     "data": {
      "text/plain": [
       "[2, 1, 4, 5, 6]"
      ]
     },
     "execution_count": 28,
     "metadata": {},
     "output_type": "execute_result"
    }
   ],
   "source": [
    "L1"
   ]
  },
  {
   "cell_type": "code",
   "execution_count": 29,
   "id": "northern-communication",
   "metadata": {},
   "outputs": [
    {
     "data": {
      "text/plain": [
       "6"
      ]
     },
     "execution_count": 29,
     "metadata": {},
     "output_type": "execute_result"
    }
   ],
   "source": [
    "L1.pop()"
   ]
  },
  {
   "cell_type": "code",
   "execution_count": 30,
   "id": "interesting-pound",
   "metadata": {},
   "outputs": [
    {
     "data": {
      "text/plain": [
       "[2, 1, 4, 5]"
      ]
     },
     "execution_count": 30,
     "metadata": {},
     "output_type": "execute_result"
    }
   ],
   "source": [
    "L1"
   ]
  },
  {
   "cell_type": "code",
   "execution_count": 31,
   "id": "charged-audit",
   "metadata": {},
   "outputs": [],
   "source": [
    "L1.remove(2)"
   ]
  },
  {
   "cell_type": "code",
   "execution_count": 32,
   "id": "developed-oracle",
   "metadata": {},
   "outputs": [
    {
     "data": {
      "text/plain": [
       "[1, 4, 5]"
      ]
     },
     "execution_count": 32,
     "metadata": {},
     "output_type": "execute_result"
    }
   ],
   "source": [
    "L1"
   ]
  },
  {
   "cell_type": "markdown",
   "id": "roman-spanish",
   "metadata": {},
   "source": [
    "## convertion between list and string"
   ]
  },
  {
   "cell_type": "code",
   "execution_count": 33,
   "id": "stuck-forum",
   "metadata": {},
   "outputs": [
    {
     "data": {
      "text/plain": [
       "'[1, 4, 5]'"
      ]
     },
     "execution_count": 33,
     "metadata": {},
     "output_type": "execute_result"
    }
   ],
   "source": [
    "s = str(L1)\n",
    "s"
   ]
  },
  {
   "cell_type": "code",
   "execution_count": 34,
   "id": "swiss-million",
   "metadata": {},
   "outputs": [
    {
     "data": {
      "text/plain": [
       "['a', 'b', 'c']"
      ]
     },
     "execution_count": 34,
     "metadata": {},
     "output_type": "execute_result"
    }
   ],
   "source": [
    "list('abc')"
   ]
  },
  {
   "cell_type": "code",
   "execution_count": 35,
   "id": "accepted-blink",
   "metadata": {},
   "outputs": [
    {
     "data": {
      "text/plain": [
       "['[1', ' 4', ' 5]']"
      ]
     },
     "execution_count": 35,
     "metadata": {},
     "output_type": "execute_result"
    }
   ],
   "source": [
    "s.split(',') # split a string to a list of string"
   ]
  },
  {
   "cell_type": "code",
   "execution_count": 36,
   "id": "dedicated-entry",
   "metadata": {},
   "outputs": [
    {
     "data": {
      "text/plain": [
       "'[1, 4, 5]'"
      ]
     },
     "execution_count": 36,
     "metadata": {},
     "output_type": "execute_result"
    }
   ],
   "source": [
    "''.join(s) # link a list of string using nothing"
   ]
  },
  {
   "cell_type": "code",
   "execution_count": 37,
   "id": "sharing-literature",
   "metadata": {},
   "outputs": [
    {
     "data": {
      "text/plain": [
       "'[c1c,c c4c,c c5c]'"
      ]
     },
     "execution_count": 37,
     "metadata": {},
     "output_type": "execute_result"
    }
   ],
   "source": [
    "'c'.join(s) #link a list of string using 'c'"
   ]
  },
  {
   "cell_type": "markdown",
   "id": "former-match",
   "metadata": {},
   "source": [
    "## sort and reverse"
   ]
  },
  {
   "cell_type": "code",
   "execution_count": 38,
   "id": "proved-tanzania",
   "metadata": {},
   "outputs": [],
   "source": [
    "L1 += [3,4,1,1,]"
   ]
  },
  {
   "cell_type": "code",
   "execution_count": 39,
   "id": "institutional-bulgarian",
   "metadata": {},
   "outputs": [
    {
     "data": {
      "text/plain": [
       "[1, 1, 1, 3, 4, 4, 5]"
      ]
     },
     "execution_count": 39,
     "metadata": {},
     "output_type": "execute_result"
    }
   ],
   "source": [
    "L1.sort()\n",
    "L1"
   ]
  },
  {
   "cell_type": "code",
   "execution_count": 40,
   "id": "varied-orange",
   "metadata": {},
   "outputs": [
    {
     "data": {
      "text/plain": [
       "[1, 1, 1, 3, 4, 4, 5]"
      ]
     },
     "execution_count": 40,
     "metadata": {},
     "output_type": "execute_result"
    }
   ],
   "source": [
    "sorted(L1)"
   ]
  },
  {
   "cell_type": "code",
   "execution_count": 41,
   "id": "previous-climate",
   "metadata": {},
   "outputs": [
    {
     "data": {
      "text/plain": [
       "[5, 4, 4, 3, 1, 1, 1]"
      ]
     },
     "execution_count": 41,
     "metadata": {},
     "output_type": "execute_result"
    }
   ],
   "source": [
    "L1.reverse()\n",
    "L1"
   ]
  },
  {
   "cell_type": "code",
   "execution_count": 42,
   "id": "seasonal-miller",
   "metadata": {},
   "outputs": [
    {
     "data": {
      "text/plain": [
       "4"
      ]
     },
     "execution_count": 42,
     "metadata": {},
     "output_type": "execute_result"
    }
   ],
   "source": [
    "L1.index(1)#Get the index of first '1'"
   ]
  },
  {
   "cell_type": "markdown",
   "id": "expressed-binary",
   "metadata": {},
   "source": [
    "# Dictionary"
   ]
  },
  {
   "cell_type": "markdown",
   "id": "therapeutic-poker",
   "metadata": {},
   "source": [
    "Dictionary is a constructed datatype that store pairs of data,key and value,which is corresponding to each other."
   ]
  },
  {
   "cell_type": "code",
   "execution_count": 53,
   "id": "south-jaguar",
   "metadata": {},
   "outputs": [],
   "source": [
    "grade = {'Ane':'B','Clayer':'C','Bob':'A'}\n"
   ]
  },
  {
   "cell_type": "code",
   "execution_count": 54,
   "id": "conservative-clinic",
   "metadata": {},
   "outputs": [
    {
     "data": {
      "text/plain": [
       "'B'"
      ]
     },
     "execution_count": 54,
     "metadata": {},
     "output_type": "execute_result"
    }
   ],
   "source": [
    "grade['Ane']"
   ]
  },
  {
   "cell_type": "code",
   "execution_count": 55,
   "id": "tamil-midwest",
   "metadata": {},
   "outputs": [
    {
     "data": {
      "text/plain": [
       "{'Ane': 'B', 'Clayer': 'C', 'Bob': 'A', 'Neil': 'A'}"
      ]
     },
     "execution_count": 55,
     "metadata": {},
     "output_type": "execute_result"
    }
   ],
   "source": [
    "# add a entry\n",
    "grade['Neil'] = 'A'\n",
    "grade"
   ]
  },
  {
   "cell_type": "code",
   "execution_count": 56,
   "id": "laden-thanks",
   "metadata": {},
   "outputs": [
    {
     "data": {
      "text/plain": [
       "True"
      ]
     },
     "execution_count": 56,
     "metadata": {},
     "output_type": "execute_result"
    }
   ],
   "source": [
    "# test if key in dictionary\n",
    "'Neil' in grade"
   ]
  },
  {
   "cell_type": "code",
   "execution_count": 57,
   "id": "entertaining-racing",
   "metadata": {},
   "outputs": [
    {
     "data": {
      "text/plain": [
       "{'Ane': 'B', 'Clayer': 'C', 'Bob': 'A'}"
      ]
     },
     "execution_count": 57,
     "metadata": {},
     "output_type": "execute_result"
    }
   ],
   "source": [
    "# Delete something in dic\n",
    "del(grade['Neil'])\n",
    "grade"
   ]
  },
  {
   "cell_type": "code",
   "execution_count": 59,
   "id": "ordinary-playlist",
   "metadata": {},
   "outputs": [
    {
     "data": {
      "text/plain": [
       "dict_keys(['Ane', 'Clayer', 'Bob'])"
      ]
     },
     "execution_count": 59,
     "metadata": {},
     "output_type": "execute_result"
    }
   ],
   "source": [
    "# Get keys or values\n",
    "grade.keys()"
   ]
  },
  {
   "cell_type": "code",
   "execution_count": 60,
   "id": "heated-small",
   "metadata": {},
   "outputs": [
    {
     "data": {
      "text/plain": [
       "dict_values(['B', 'C', 'A'])"
      ]
     },
     "execution_count": 60,
     "metadata": {},
     "output_type": "execute_result"
    }
   ],
   "source": [
    "grade.values()"
   ]
  },
  {
   "cell_type": "markdown",
   "id": "egyptian-workshop",
   "metadata": {},
   "source": [
    "What is to be mentioned is that there no order in dictionary."
   ]
  },
  {
   "cell_type": "code",
   "execution_count": null,
   "id": "invisible-duplicate",
   "metadata": {},
   "outputs": [],
   "source": []
  }
 ],
 "metadata": {
  "kernelspec": {
   "display_name": "Python 3 (ipykernel)",
   "language": "python",
   "name": "python3"
  },
  "language_info": {
   "codemirror_mode": {
    "name": "ipython",
    "version": 3
   },
   "file_extension": ".py",
   "mimetype": "text/x-python",
   "name": "python",
   "nbconvert_exporter": "python",
   "pygments_lexer": "ipython3",
   "version": "3.9.2"
  }
 },
 "nbformat": 4,
 "nbformat_minor": 5
}
